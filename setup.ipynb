{
  "nbformat": 4,
  "nbformat_minor": 0,
  "metadata": {
    "colab": {
      "name": "setup.ipynb",
      "provenance": [],
      "collapsed_sections": [],
      "authorship_tag": "ABX9TyOqeQNlX352YiwdBRAUXlBO",
      "include_colab_link": true
    },
    "kernelspec": {
      "name": "python3",
      "display_name": "Python 3"
    },
    "language_info": {
      "name": "python"
    }
  },
  "cells": [
    {
      "cell_type": "markdown",
      "metadata": {
        "id": "view-in-github",
        "colab_type": "text"
      },
      "source": [
        "<a href=\"https://colab.research.google.com/github/blackdragonae/h0wsh2021/blob/main/setup.ipynb\" target=\"_parent\"><img src=\"https://colab.research.google.com/assets/colab-badge.svg\" alt=\"Open In Colab\"/></a>"
      ]
    },
    {
      "cell_type": "markdown",
      "metadata": {
        "id": "hAFQ1IkoPM6W"
      },
      "source": [
        "**Drive Setup**"
      ]
    },
    {
      "cell_type": "code",
      "metadata": {
        "colab": {
          "base_uri": "https://localhost:8080/"
        },
        "id": "dqxsQwULPSOD",
        "outputId": "204d2497-63d8-4a3b-8c04-2ef5bb20aeec"
      },
      "source": [
        "import os\n",
        "from google.colab import drive\n",
        "drive.mount('/content/drive')\n",
        "\n",
        "if not os.path.exists('/content/drive/MyDrive/temp'):\n",
        "  os.makedirs('/content/drive/MyDrive/temp')\n",
        "\n",
        "!git clone 'https://github.com/blackdragonae/h0wsh2021.git' '/content/drive/MyDrive/temp'\n",
        "\n",
        "!mv '/content/drive/MyDrive/temp/dat/' '/content/drive/MyDrive/' \n",
        "\n",
        "!rm -r '/content/drive/MyDrive/temp'"
      ],
      "execution_count": 1,
      "outputs": [
        {
          "output_type": "stream",
          "text": [
            "Mounted at /content/drive\n",
            "Cloning into '/content/drive/MyDrive/temp'...\n",
            "remote: Enumerating objects: 124, done.\u001b[K\n",
            "remote: Counting objects: 100% (124/124), done.\u001b[K\n",
            "remote: Compressing objects: 100% (116/116), done.\u001b[K\n",
            "remote: Total 124 (delta 14), reused 0 (delta 0), pack-reused 0\u001b[K\n",
            "Receiving objects: 100% (124/124), 7.25 MiB | 6.89 MiB/s, done.\n",
            "Resolving deltas: 100% (14/14), done.\n"
          ],
          "name": "stdout"
        }
      ]
    }
  ]
}